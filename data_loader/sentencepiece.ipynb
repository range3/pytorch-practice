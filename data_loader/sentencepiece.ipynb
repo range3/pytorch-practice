{
 "cells": [
  {
   "cell_type": "code",
   "execution_count": 9,
   "metadata": {},
   "outputs": [],
   "source": [
    "# %autoreload 2\n",
    "import pandas as pd\n",
    "import novel\n",
    "from pprint import pprint\n",
    "from pathlib import Path\n",
    "\n",
    "data_loader = novel.DataLoader(novel.Dataset('../data/narou'))\n",
    "\n",
    "data_dir = Path('../data')\n",
    "sp_corpus_file = data_dir / 'sp_corpus.txt'\n",
    "\n",
    "# with sp_corpus_file.open(mode='w') as f:\n",
    "#     for line in data_loader:\n",
    "#         f.write(line.strip() + '\\n')\n"
   ]
  },
  {
   "cell_type": "code",
   "execution_count": 12,
   "metadata": {},
   "outputs": [
    {
     "name": "stdout",
     "output_type": "stream",
     "text": [
      "--input=../data/sp_corpus.txt --model_prefix=../data/narou_sentencepiece --character_coverage=0.9995 --vocab_size=32000 --pad_id=3 --add_dummy_prefix=False\n"
     ]
    }
   ],
   "source": [
    "import sentencepiece as spm\n",
    "\n",
    "# with sp_corpus_file.open() as f:\n",
    "#     for i,line in enumerate(f):\n",
    "#         if i >= 10:\n",
    "#             break\n",
    "#         print(line.rstrip())\n",
    "\n",
    "# spm.SentencePieceTrainer.Train(\n",
    "print(\n",
    "    f'--input={sp_corpus_file}' \\\n",
    "    f' --model_prefix={data_dir}/narou_sentencepiece' \\\n",
    "    ' --character_coverage=0.9995' \\\n",
    "    ' --vocab_size=32000' \\\n",
    "    ' --pad_id=3' \\\n",
    "    ' --add_dummy_prefix=False'\n",
    ")\n"
   ]
  },
  {
   "cell_type": "code",
   "execution_count": 20,
   "metadata": {},
   "outputs": [
    {
     "name": "stdout",
     "output_type": "stream",
     "text": [
      "[['勇者は', 'そんな', '魔王', 'と戦う', '、', '人族の希望', '。'],\n",
      " ['今回も',\n",
      "  'クラスの',\n",
      "  '機能',\n",
      "  'ですが',\n",
      "  '、',\n",
      "  'プロ',\n",
      "  'パ',\n",
      "  'ティ',\n",
      "  'という',\n",
      "  '機能',\n",
      "  'について',\n",
      "  'やっ',\n",
      "  'ていきます',\n",
      "  '。']]\n"
     ]
    }
   ],
   "source": [
    "sp_model_prefix = 'narou_sentencepiece'\n",
    "sp_model_file = data_dir / f'{sp_model_prefix}.model'\n",
    "sp = spm.SentencePieceProcessor()\n",
    "sp.Load(str(sp_model_file))\n",
    "\n",
    "text = [\n",
    "    '勇者はそんな魔王と戦う、人族の希望。',\n",
    "    '今回もクラスの機能ですが、プロパティという機能についてやっていきます。']\n",
    "pprint(sp.encode(text, out_type='str'))"
   ]
  }
 ],
 "metadata": {
  "interpreter": {
   "hash": "d4d1e4263499bec80672ea0156c357c1ee493ec2b1c70f0acce89fc37c4a6abe"
  },
  "kernelspec": {
   "display_name": "Python 3.8.12 64-bit ('base': conda)",
   "language": "python",
   "name": "python3"
  },
  "language_info": {
   "codemirror_mode": {
    "name": "ipython",
    "version": 3
   },
   "file_extension": ".py",
   "mimetype": "text/x-python",
   "name": "python",
   "nbconvert_exporter": "python",
   "pygments_lexer": "ipython3",
   "version": "3.8.12"
  },
  "orig_nbformat": 4
 },
 "nbformat": 4,
 "nbformat_minor": 2
}
