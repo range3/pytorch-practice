{
 "cells": [
  {
   "cell_type": "code",
   "execution_count": 13,
   "metadata": {},
   "outputs": [],
   "source": [
    "# %autoreload 2\n",
    "\n",
    "import novel\n",
    "from pprint import pprint\n",
    "# print(dir(novel))\n",
    "\n",
    "data_loader = novel.DataLoader(novel.Dataset('../data/narou'))\n",
    "\n",
    "counter = 0\n",
    "for line in data_loader:\n",
    "    counter += 1\n",
    "    if counter > 10:\n",
    "        break\n",
    "    # pprint(line.strip())"
   ]
  },
  {
   "cell_type": "code",
   "execution_count": 14,
   "metadata": {},
   "outputs": [
    {
     "name": "stdout",
     "output_type": "stream",
     "text": [
      "['N7975CR', 'N3556O', 'N8304FA', 'N0654GG', 'N4029BS', 'N2379EU', 'N5691DD', 'N3386DB', 'N0339DN', 'N2172GB']\n"
     ]
    }
   ],
   "source": [
    "from pathlib import Path\n",
    "\n",
    "basedir = Path('../data/narou')\n",
    "paths = list(basedir.glob('*/N*'))[:10]\n",
    "print(list(map(lambda path: path.name, paths)))"
   ]
  },
  {
   "cell_type": "code",
   "execution_count": 17,
   "metadata": {},
   "outputs": [
    {
     "data": {
      "text/plain": [
       "['N7975CR',\n",
       " 'N3556O',\n",
       " 'N8304FA',\n",
       " 'N0654GG',\n",
       " 'N4029BS',\n",
       " 'N2379EU',\n",
       " 'N5691DD',\n",
       " 'N3386DB',\n",
       " 'N0339DN',\n",
       " 'N2172GB']"
      ]
     },
     "execution_count": 17,
     "metadata": {},
     "output_type": "execute_result"
    }
   ],
   "source": [
    "dataset = novel.Dataset('../data/narou')\n",
    "\n",
    "list(map(lambda novel: novel.ncode, list(dataset)[:10]))"
   ]
  }
 ],
 "metadata": {
  "interpreter": {
   "hash": "d4d1e4263499bec80672ea0156c357c1ee493ec2b1c70f0acce89fc37c4a6abe"
  },
  "kernelspec": {
   "display_name": "Python 3.8.12 64-bit ('base': conda)",
   "language": "python",
   "name": "python3"
  },
  "language_info": {
   "codemirror_mode": {
    "name": "ipython",
    "version": 3
   },
   "file_extension": ".py",
   "mimetype": "text/x-python",
   "name": "python",
   "nbconvert_exporter": "python",
   "pygments_lexer": "ipython3",
   "version": "3.8.12"
  },
  "orig_nbformat": 4
 },
 "nbformat": 4,
 "nbformat_minor": 2
}
