{
 "cells": [
  {
   "cell_type": "code",
   "execution_count": 35,
   "id": "6e89505d",
   "metadata": {},
   "outputs": [
    {
     "name": "stdout",
     "output_type": "stream",
     "text": [
      "x = tensor(5.)\n",
      "w = tensor(2., requires_grad=True)\n",
      "b = tensor(1., requires_grad=True)\n"
     ]
    }
   ],
   "source": [
    "import numpy as np\n",
    "import matplotlib.pyplot as plt\n",
    "import torch\n",
    "x = torch.tensor(5.)\n",
    "w = torch.tensor(2., requires_grad=True)\n",
    "b = torch.tensor(1., requires_grad=True)\n",
    "\n",
    "print('x =', x)\n",
    "print('w =', w)\n",
    "print('b =', b)"
   ]
  },
  {
   "cell_type": "code",
   "execution_count": 36,
   "id": "915ad562",
   "metadata": {},
   "outputs": [
    {
     "name": "stdout",
     "output_type": "stream",
     "text": [
      "y = tensor(11., grad_fn=<AddBackward0>)\n",
      "x = tensor(5.)\n",
      "w = tensor(2., requires_grad=True)\n",
      "b = tensor(1., requires_grad=True)\n"
     ]
    }
   ],
   "source": [
    "y = torch.tensor(1., requires_grad=True)\n",
    "y = w * x + b\n",
    "print('y =', y)\n",
    "print('x =', x)\n",
    "print('w =', w)\n",
    "print('b =', b)"
   ]
  },
  {
   "cell_type": "code",
   "execution_count": 37,
   "id": "117074ad",
   "metadata": {},
   "outputs": [
    {
     "name": "stdout",
     "output_type": "stream",
     "text": [
      "yy = tensor(121., grad_fn=<PowBackward0>)\n",
      "y.grad= None\n",
      "w.grad= tensor(110.)\n",
      "b.grad= tensor(22.)\n"
     ]
    }
   ],
   "source": [
    "yy = y ** 2\n",
    "print('yy =', yy)\n",
    "\n",
    "yy.backward()\n",
    "print('y.grad=', y.grad)\n",
    "print('w.grad=', w.grad)\n",
    "print('b.grad=', b.grad)"
   ]
  }
 ],
 "metadata": {
  "kernelspec": {
   "display_name": "Python 3 (ipykernel)",
   "language": "python",
   "name": "python3"
  },
  "language_info": {
   "codemirror_mode": {
    "name": "ipython",
    "version": 3
   },
   "file_extension": ".py",
   "mimetype": "text/x-python",
   "name": "python",
   "nbconvert_exporter": "python",
   "pygments_lexer": "ipython3",
   "version": "3.8.12"
  }
 },
 "nbformat": 4,
 "nbformat_minor": 5
}
