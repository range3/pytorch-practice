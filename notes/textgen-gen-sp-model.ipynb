{
 "cells": [
  {
   "cell_type": "code",
   "execution_count": 1,
   "metadata": {},
   "outputs": [],
   "source": [
    "# %autoreload 2\n",
    "\n",
    "import sys\n",
    "sys.path.append('../data_loader')\n",
    "sys.path.append('../textgen')\n",
    "import logging\n",
    "logging.basicConfig(format='%(asctime)s : %(levelname)s : %(message)s', level=logging.INFO)\n",
    "from pprint import pprint as print\n"
   ]
  },
  {
   "cell_type": "code",
   "execution_count": 2,
   "metadata": {},
   "outputs": [],
   "source": [
    "import re\n",
    "import neologdn\n",
    "\n",
    "def preprocess_text(text):\n",
    "    text = re.sub(r'[\\r\\t\\n\\u3000]', '', text)\n",
    "    text = neologdn.normalize(text)\n",
    "    text = text.lower()\n",
    "    text = text.strip()\n",
    "    return text"
   ]
  },
  {
   "cell_type": "code",
   "execution_count": 3,
   "metadata": {},
   "outputs": [
    {
     "name": "stdout",
     "output_type": "stream",
     "text": [
      "PosixPath('/workspaces/pytorch-practice/data/novels/narou')\n",
      "'勇者と魔王の戦い。それは、この世界で幾度となく繰り返されてきたものだ。魔族を統べる魔王。彼らは一つの時代に必ず一人いる。今代の魔王が倒された時、魔族や魔物の中でも特に強い力を持ったものが、次代の魔王と'\n",
      "'さて、私が蜘蛛に転生してしまったことは、とても遺憾ながら認めよう。認めはしたけど、このあとどうしよう?ボリボリッ!何やら不穏な音がする。うん。現実から目をそらせちゃ、ダメだ。私の目の前には私のおそらく'\n",
      "'吾輩は蜘蛛である。名前はまだない。え、突然何言ってんだって?私って名前ないらしいから、それを言ってみただけ。何の話かって?それを話すにはちょっと前のことを振り返らなきゃならない。***********'\n",
      "'さてさて。いつまでも同じ場所にいても仕方ないし、そろそろ移動しないとまずいよね。足跡があるってことは、人がいるってことだし、そいつらと鉢合わせになったら面倒なことになる予感しかしない。とりあえず、足跡'\n"
     ]
    }
   ],
   "source": [
    "import novel\n",
    "import config\n",
    "from torch.utils.data import Dataset\n",
    "\n",
    "print(config.NOVEL_DATA_PATH)\n",
    "\n",
    "data_loader = novel.DataLoader(novel.Dataset(config.NOVEL_DATA_PATH))\n",
    "\n",
    "for i,body in enumerate(map(lambda l: preprocess_text(l), data_loader)):\n",
    "    if i > 3:\n",
    "        break\n",
    "    print(body[0:100])"
   ]
  },
  {
   "cell_type": "code",
   "execution_count": 4,
   "metadata": {},
   "outputs": [
    {
     "name": "stdout",
     "output_type": "stream",
     "text": [
      "'0/N7975CR/N7975CR-1.txt'\n",
      "'0/N7975CR/N7975CR-10.txt'\n",
      "'0/N7975CR/N7975CR-100.txt'\n",
      "'0/N7975CR/N7975CR-101.txt'\n",
      "'0/N7975CR/N7975CR-102.txt'\n",
      "'0/N7975CR/N7975CR-103.txt'\n",
      "'0/N7975CR/N7975CR-104.txt'\n",
      "'0/N7975CR/N7975CR-105.txt'\n",
      "'0/N7975CR/N7975CR-106.txt'\n",
      "'0/N7975CR/N7975CR-107.txt'\n"
     ]
    }
   ],
   "source": [
    "from pathlib import Path\n",
    "\n",
    "prefix_len = len(str(config.NOVEL_DATA_PATH))\n",
    "for i,p in enumerate(config.NOVEL_DATA_PATH.glob('*/N*/*.txt')):\n",
    "    if i >= 10:\n",
    "        break\n",
    "    print(str(p)[prefix_len+1:])\n",
    "\n",
    "episode_paths = [str(ep)[prefix_len+1:] for ep in config.NOVEL_DATA_PATH.glob('*/N*/*.txt')]"
   ]
  },
  {
   "cell_type": "code",
   "execution_count": 5,
   "metadata": {},
   "outputs": [
    {
     "data": {
      "text/plain": [
       "(178220, 44556)"
      ]
     },
     "execution_count": 5,
     "metadata": {},
     "output_type": "execute_result"
    }
   ],
   "source": [
    "from sklearn.model_selection import train_test_split\n",
    "\n",
    "train_ep, test_ep = train_test_split(episode_paths, test_size=0.2, random_state=42, shuffle=True)\n",
    "\n",
    "len(train_ep), len(test_ep)"
   ]
  },
  {
   "cell_type": "code",
   "execution_count": 8,
   "metadata": {},
   "outputs": [],
   "source": [
    "with Path(config.SENTENCEPIECE_MODEL_DIR / 'clean.txt').open(mode='w') as fo:\n",
    "    for i,ep in enumerate(episode_paths):\n",
    "        with Path(config.NOVEL_DATA_PATH / ep).open() as fi:\n",
    "            clean_text = preprocess_text(fi.read())\n",
    "            fo.write(clean_text + \"\\n\")\n"
   ]
  },
  {
   "cell_type": "code",
   "execution_count": 9,
   "metadata": {},
   "outputs": [
    {
     "name": "stderr",
     "output_type": "stream",
     "text": [
      "sentencepiece_trainer.cc(177) LOG(INFO) Running command: --input=/workspaces/pytorch-practice/notes/../models/sentencepiece/clean.txt --model_prefix=/workspaces/pytorch-practice/notes/../models/sentencepiece/novel_sp --character_coverage=0.9995 --vocab_size=52000 --pad_id=3 --add_dummy_prefix=False\n",
      "sentencepiece_trainer.cc(77) LOG(INFO) Starts training with : \n",
      "trainer_spec {\n",
      "  input: /workspaces/pytorch-practice/notes/../models/sentencepiece/clean.txt\n",
      "  input_format: \n",
      "  model_prefix: /workspaces/pytorch-practice/notes/../models/sentencepiece/novel_sp\n",
      "  model_type: UNIGRAM\n",
      "  vocab_size: 52000\n",
      "  self_test_sample_size: 0\n",
      "  character_coverage: 0.9995\n",
      "  input_sentence_size: 0\n",
      "  shuffle_input_sentence: 1\n",
      "  seed_sentencepiece_size: 1000000\n",
      "  shrinking_factor: 0.75\n",
      "  max_sentence_length: 4192\n",
      "  num_threads: 16\n",
      "  num_sub_iterations: 2\n",
      "  max_sentencepiece_length: 16\n",
      "  split_by_unicode_script: 1\n",
      "  split_by_number: 1\n",
      "  split_by_whitespace: 1\n",
      "  split_digits: 0\n",
      "  treat_whitespace_as_suffix: 0\n",
      "  required_chars: \n",
      "  byte_fallback: 0\n",
      "  vocabulary_output_piece_score: 1\n",
      "  train_extremely_large_corpus: 0\n",
      "  hard_vocab_limit: 1\n",
      "  use_all_vocab: 0\n",
      "  unk_id: 0\n",
      "  bos_id: 1\n",
      "  eos_id: 2\n",
      "  pad_id: 3\n",
      "  unk_piece: <unk>\n",
      "  bos_piece: <s>\n",
      "  eos_piece: </s>\n",
      "  pad_piece: <pad>\n",
      "  unk_surface:  ⁇ \n",
      "}\n",
      "normalizer_spec {\n",
      "  name: nmt_nfkc\n",
      "  add_dummy_prefix: 0\n",
      "  remove_extra_whitespaces: 1\n",
      "  escape_whitespaces: 1\n",
      "  normalization_rule_tsv: \n",
      "}\n",
      "denormalizer_spec {}\n",
      "trainer_interface.cc(319) LOG(INFO) SentenceIterator is not specified. Using MultiFileSentenceIterator.\n",
      "trainer_interface.cc(174) LOG(INFO) Loading corpus: /workspaces/pytorch-practice/notes/../models/sentencepiece/clean.txt\n",
      "trainer_interface.cc(346) LOG(WARNING) Found too long line (6230 > 4192).\n",
      "trainer_interface.cc(348) LOG(WARNING) Too long lines are skipped in the training.\n",
      "trainer_interface.cc(349) LOG(WARNING) The maximum length can be changed with --max_sentence_length=<size> flag.\n",
      "trainer_interface.cc(375) LOG(INFO) Loaded all 8718 sentences\n",
      "trainer_interface.cc(381) LOG(INFO) Skipped 214058 too long sentences.\n",
      "trainer_interface.cc(390) LOG(INFO) Adding meta_piece: <unk>\n",
      "trainer_interface.cc(390) LOG(INFO) Adding meta_piece: <s>\n",
      "trainer_interface.cc(390) LOG(INFO) Adding meta_piece: </s>\n",
      "trainer_interface.cc(390) LOG(INFO) Adding meta_piece: <pad>\n",
      "trainer_interface.cc(395) LOG(INFO) Normalizing sentences...\n",
      "trainer_interface.cc(456) LOG(INFO) all chars count=9658416\n",
      "trainer_interface.cc(467) LOG(INFO) Done: 99.9501% characters are covered.\n",
      "trainer_interface.cc(477) LOG(INFO) Alphabet size=2785\n",
      "trainer_interface.cc(478) LOG(INFO) Final character coverage=0.999501\n",
      "trainer_interface.cc(510) LOG(INFO) Done! preprocessed 8718 sentences.\n",
      "unigram_model_trainer.cc(138) LOG(INFO) Making suffix array...\n",
      "unigram_model_trainer.cc(142) LOG(INFO) Extracting frequent sub strings...\n",
      "unigram_model_trainer.cc(193) LOG(INFO) Initialized 1000000 seed sentencepieces\n",
      "trainer_interface.cc(516) LOG(INFO) Tokenizing input sentences with whitespace: 8718\n",
      "trainer_interface.cc(526) LOG(INFO) Done! 9267\n",
      "unigram_model_trainer.cc(488) LOG(INFO) Using 9267 sentences for EM training\n",
      "unigram_model_trainer.cc(504) LOG(INFO) EM sub_iter=0 size=464995 obj=3377.94 num_tokens=3006992 num_tokens/piece=6.46672\n",
      "unigram_model_trainer.cc(504) LOG(INFO) EM sub_iter=1 size=397032 obj=3032.18 num_tokens=3024547 num_tokens/piece=7.61789\n",
      "unigram_model_trainer.cc(504) LOG(INFO) EM sub_iter=0 size=296576 obj=3042.9 num_tokens=3102632 num_tokens/piece=10.4615\n",
      "unigram_model_trainer.cc(504) LOG(INFO) EM sub_iter=1 size=294424 obj=3027.04 num_tokens=3105822 num_tokens/piece=10.5488\n",
      "unigram_model_trainer.cc(504) LOG(INFO) EM sub_iter=0 size=220595 obj=3071.92 num_tokens=3206119 num_tokens/piece=14.534\n",
      "unigram_model_trainer.cc(504) LOG(INFO) EM sub_iter=1 size=220308 obj=3056.06 num_tokens=3207115 num_tokens/piece=14.5574\n",
      "unigram_model_trainer.cc(504) LOG(INFO) EM sub_iter=0 size=165210 obj=3117.3 num_tokens=3322242 num_tokens/piece=20.1092\n",
      "unigram_model_trainer.cc(504) LOG(INFO) EM sub_iter=1 size=165184 obj=3099.82 num_tokens=3323167 num_tokens/piece=20.118\n",
      "unigram_model_trainer.cc(504) LOG(INFO) EM sub_iter=0 size=123887 obj=3169.86 num_tokens=3443495 num_tokens/piece=27.7955\n",
      "unigram_model_trainer.cc(504) LOG(INFO) EM sub_iter=1 size=123880 obj=3152.46 num_tokens=3443928 num_tokens/piece=27.8005\n",
      "unigram_model_trainer.cc(504) LOG(INFO) EM sub_iter=0 size=92910 obj=3227.17 num_tokens=3567188 num_tokens/piece=38.394\n",
      "unigram_model_trainer.cc(504) LOG(INFO) EM sub_iter=1 size=92909 obj=3210.99 num_tokens=3567815 num_tokens/piece=38.4012\n",
      "unigram_model_trainer.cc(504) LOG(INFO) EM sub_iter=0 size=69680 obj=3291.48 num_tokens=3698614 num_tokens/piece=53.08\n",
      "unigram_model_trainer.cc(504) LOG(INFO) EM sub_iter=1 size=69680 obj=3275.23 num_tokens=3698840 num_tokens/piece=53.0832\n",
      "unigram_model_trainer.cc(504) LOG(INFO) EM sub_iter=0 size=57200 obj=3333.03 num_tokens=3793426 num_tokens/piece=66.3186\n",
      "unigram_model_trainer.cc(504) LOG(INFO) EM sub_iter=1 size=57200 obj=3321.71 num_tokens=3793928 num_tokens/piece=66.3274\n",
      "trainer_interface.cc(604) LOG(INFO) Saving model: /workspaces/pytorch-practice/notes/../models/sentencepiece/novel_sp.model\n",
      "trainer_interface.cc(615) LOG(INFO) Saving vocabs: /workspaces/pytorch-practice/notes/../models/sentencepiece/novel_sp.vocab\n"
     ]
    }
   ],
   "source": [
    "import sentencepiece as spm\n",
    "\n",
    "spm.SentencePieceTrainer.Train(\n",
    "    f'--input={str(config.SENTENCEPIECE_MODEL_DIR)}/clean.txt' \\\n",
    "    f' --model_prefix={str(config.SENTENCEPIECE_MODEL_DIR)}/novel_sp' \\\n",
    "    ' --character_coverage=0.9995' \\\n",
    "    ' --vocab_size=52000' \\\n",
    "    ' --pad_id=3' \\\n",
    "    ' --add_dummy_prefix=False'\n",
    ")"
   ]
  },
  {
   "cell_type": "code",
   "execution_count": 16,
   "metadata": {},
   "outputs": [
    {
     "name": "stdout",
     "output_type": "stream",
     "text": [
      "['はじめて', 'の', '自然', '言語', '処理']\n",
      "['勇者は', 'そんな', '魔王', 'と戦う', '、', '人族の', '希望', '。']\n",
      "['〈', '黒', '穴', '〉', 'に', '飛び込んだ', '者は', '、', '莫大な', '財宝', 'や', '、', '強大な', '能力', 'を得る', 'という', '。']\n"
     ]
    }
   ],
   "source": [
    "sp = spm.SentencePieceProcessor()\n",
    "sp.Load(f'{str(config.SENTENCEPIECE_MODEL_DIR)}/novel_sp.model')\n",
    "print(sp.EncodeAsPieces('はじめての自然言語処理'))\n",
    "print(sp.EncodeAsPieces('勇者はそんな魔王と戦う、人族の希望。'))\n",
    "print(sp.EncodeAsPieces('〈黒穴〉に飛び込んだ者は、莫大な財宝や、強大な能力を得るという。'), width=10000)"
   ]
  }
 ],
 "metadata": {
  "interpreter": {
   "hash": "d4d1e4263499bec80672ea0156c357c1ee493ec2b1c70f0acce89fc37c4a6abe"
  },
  "kernelspec": {
   "display_name": "Python 3.8.12 64-bit ('base': conda)",
   "language": "python",
   "name": "python3"
  },
  "language_info": {
   "codemirror_mode": {
    "name": "ipython",
    "version": 3
   },
   "file_extension": ".py",
   "mimetype": "text/x-python",
   "name": "python",
   "nbconvert_exporter": "python",
   "pygments_lexer": "ipython3",
   "version": "3.8.12"
  },
  "orig_nbformat": 4
 },
 "nbformat": 4,
 "nbformat_minor": 2
}
